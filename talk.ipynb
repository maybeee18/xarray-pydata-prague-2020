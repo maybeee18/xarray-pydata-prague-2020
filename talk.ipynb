{
 "cells": [
  {
   "cell_type": "markdown",
   "metadata": {
    "slideshow": {
     "slide_type": "slide"
    }
   },
   "source": [
    "# Xarray - more than Pandas in multiple dimensions\n",
    "\n",
    "Ondřej Grover - PyData Prague 5.10.2020\n",
    "\n",
    "*Ph.D. candidate at the Institute of Plasma Physics of the CAS*\n",
    "\n",
    "*not a core xarray developer, but an active user and extension developer* "
   ]
  },
  {
   "cell_type": "markdown",
   "metadata": {
    "slideshow": {
     "slide_type": "slide"
    }
   },
   "source": [
    "### Outline\n",
    "\n",
    "- Motivation: 3 laments of NumPy (and Pandas)\n",
    "- `xarray` API basics\n",
    "  - technical structure overview\n",
    "  - basic usage examples\n",
    "\n",
    "- More advanced API usage\n",
    "  - Convenient wrappers: `xrscipy` and `xrrandom` examples\n",
    "  - Implicit, parallelized `for` loops with Dask broadcasting magic"
   ]
  },
  {
   "cell_type": "markdown",
   "metadata": {
    "slideshow": {
     "slide_type": "slide"
    }
   },
   "source": [
    "### If only NumPy slicing and indexing could use labels/coordinates ..."
   ]
  },
  {
   "cell_type": "code",
   "execution_count": null,
   "metadata": {
    "cell_style": "split"
   },
   "outputs": [],
   "source": [
    "import numpy as np\n",
    "\n",
    "x = np.linspace(0, 5)\n",
    "y = x**2\n",
    "# how to select y for which 2 < x < 3 ?\n",
    "# common workaround: array of bool mask\n",
    "y_sel = y[(2 < x) & (x < 3)]   # not very efficient\n",
    "y_sel"
   ]
  },
  {
   "cell_type": "code",
   "execution_count": null,
   "metadata": {
    "cell_style": "split",
    "scrolled": true,
    "slideshow": {
     "slide_type": "fragment"
    }
   },
   "outputs": [],
   "source": [
    "import pandas as pd\n",
    "\n",
    "ys = pd.Series(y, index=x)\n",
    "ys.loc[2:3]   # efficient and concise"
   ]
  },
  {
   "cell_type": "markdown",
   "metadata": {
    "slideshow": {
     "slide_type": "-"
    }
   },
   "source": [
    "Pandas covers this, **but** is mostly oriented at **1D** + \"**2D**\" *(`DataFrame` ~ `dict` of `Series` - not as general)*\n",
    "\n",
    "*(or \"flat-ND\" with `MultiIndex` - useful with sparse ND data)*"
   ]
  },
  {
   "cell_type": "markdown",
   "metadata": {
    "cell_style": "center",
    "slideshow": {
     "slide_type": "fragment"
    }
   },
   "source": [
    "**Xarray** uses and generalizes *Pandas* indexing machinery into *multiple-dimensions*"
   ]
  },
  {
   "cell_type": "markdown",
   "metadata": {
    "slideshow": {
     "slide_type": "subslide"
    }
   },
   "source": [
    "### If only NumPy had named dimensions ...\n",
    "\n",
    "*algebraic* dimensions (rows, columns, depth, ...)  **vs.** *physical* dimensions ($x$, $y$, $z$, $t$, ...)"
   ]
  },
  {
   "cell_type": "code",
   "execution_count": null,
   "metadata": {
    "scrolled": true
   },
   "outputs": [],
   "source": [
    "A = np.random.rand(5, 7, 3)   # tensor of shape (5,7,3)  ... (t, x, y)\n",
    "# some calculations or saving/loading, reshaping....\n",
    "B = A.T.swapaxes(2,1)    # can you guess what the shape is ???\n",
    "x_mean = np.mean(B, axis=?x?)  # where is the x \"dimension\" ???\n",
    "x_mean.shape, B.shape"
   ]
  },
  {
   "cell_type": "markdown",
   "metadata": {
    "slideshow": {
     "slide_type": "notes"
    }
   },
   "source": [
    "correct dimension axis is 2"
   ]
  },
  {
   "cell_type": "markdown",
   "metadata": {
    "slideshow": {
     "slide_type": "fragment"
    }
   },
   "source": [
    "**Xarray** assigns names to dimensions ... `axis=N` -> `dim='name'`   (in wrapped functions/methods)\n",
    " - no need to remember dimension ordering\n",
    " - if dimension missing : `dim='name'` fails explicitly **vs.** `axis=N` might pack a surprise for later ...\n",
    " \n",
    " *Pandas 2D `DataFrame` has algebraic `index/columns` dimensions, with `MultiIndex` has \"dimension\"-level names with given order*"
   ]
  },
  {
   "cell_type": "markdown",
   "metadata": {
    "cell_style": "center",
    "slideshow": {
     "slide_type": "subslide"
    }
   },
   "source": [
    "### If only NumPy broadcasting magic had named dimensions ..."
   ]
  },
  {
   "cell_type": "markdown",
   "metadata": {
    "cell_style": "split",
    "slideshow": {
     "slide_type": "-"
    }
   },
   "source": [
    "NumPy broadcasting: implicit (C-fast) `for` loops in:\n",
    " - arithmetic operations vectorization\n",
    " - universal functions (*ufunc*) arguments vectorization"
   ]
  },
  {
   "cell_type": "markdown",
   "metadata": {
    "cell_style": "split",
    "slideshow": {
     "slide_type": "fragment"
    }
   },
   "source": [
    "But not so readable and easy to use  in practice ..."
   ]
  },
  {
   "cell_type": "code",
   "execution_count": null,
   "metadata": {
    "cell_style": "split"
   },
   "outputs": [],
   "source": [
    "t = np.linspace(0, 1, 5)   # time array\n",
    "C = B * np.exp(-t)\n",
    "C.shape"
   ]
  },
  {
   "cell_type": "markdown",
   "metadata": {
    "slideshow": {
     "slide_type": "notes"
    }
   },
   "source": [
    "Must add `.reshape((-1,1))`"
   ]
  },
  {
   "cell_type": "markdown",
   "metadata": {
    "cell_style": "center",
    "slideshow": {
     "slide_type": "fragment"
    }
   },
   "source": [
    "**Xarray** handles broadcasting according to dimensions names\n",
    " - checks if dimension sizes match (and/or aligns by associated coordinate indices if available)\n",
    " - reshaping, transposing, ... for arithmetic operations\n",
    " - handles *ufunc* broadcasting via `apply_ufunc` helper API\n",
    " "
   ]
  },
  {
   "cell_type": "markdown",
   "metadata": {
    "cell_style": "center",
    "slideshow": {
     "slide_type": "fragment"
    }
   },
   "source": [
    "- *with Pandas `MultiIndex` \"flat-ND\" alignment is still possible*\n",
    " \n",
    "- *PyTorch 1.3 introduced (experimental) \"Named Tensors\" which track dimensions*"
   ]
  },
  {
   "cell_type": "markdown",
   "metadata": {
    "slideshow": {
     "slide_type": "slide"
    }
   },
   "source": [
    "### Enter `xarray`\n",
    "\n",
    "<div>\n",
    "<img src=\"https://xarray.pydata.org/en/stable/_static/dataset-diagram-logo.png\" alt=\"xarray logo\" style=\"float:left; width:49%;\"><img src=\"https://xarray.pydata.org/en/stable/_images/numfocus_logo.png\" alt=\"NumFOCUS logo\" style=\"float:left; width: 49%;\">\n",
    "</div>\n",
    "\n",
    "    \n",
    "- pure Python with (optional) compiled dependencies (NumPy, Pandas, NetCDF, ...)\n",
    "- superb, well-structured documentation with many examples: [xarray.pydata.org](https://xarray.pydata.org/en/stable/index.html)\n",
    "\n",
    "\n",
    "\n",
    "Brief historical context:\n",
    "- evolution of an internal tool developed at The Climate Corporation \n",
    "- released as open source in May 2014 as `xray`, renamed in January 2016\n",
    "- became a fiscally sponsored project of NumFOCUS in August 2018\n"
   ]
  },
  {
   "cell_type": "markdown",
   "metadata": {
    "slideshow": {
     "slide_type": "slide"
    }
   },
   "source": [
    "### Semi-internal `Variable` API: core building-block\n",
    "\n",
    "- **Wraps** NumPy(-like ... *duck array*) with **dimensions** (+ other optional) *metadata*\n",
    "- **not** an `ndarray` subclass, but many *duck array* mixin properties (`[]`, `.shape`, `.dtype`, ...)\n",
    "- inspired by NetCDF file format (v4: ~ HDF5 + geoscience data conventions)"
   ]
  },
  {
   "cell_type": "code",
   "execution_count": null,
   "metadata": {},
   "outputs": [],
   "source": [
    "import xarray as xr    # \"canonical\" namespace short-hand\n",
    "\n",
    "data = np.random.rand(2, 2, 2)\n",
    "dvar = xr.Variable(('t', 'x', 'y'), data,\n",
    "                   attrs={'simulation': 'random Normal'}, encoding={})   # optional arbitrary metadata\n",
    "dvar"
   ]
  },
  {
   "cell_type": "markdown",
   "metadata": {
    "slideshow": {
     "slide_type": "fragment"
    }
   },
   "source": [
    "`DataArray`, `Dataset` containers: API built on *mappings* (~`dict`) of `'name'` -> `Variable`-like "
   ]
  },
  {
   "cell_type": "markdown",
   "metadata": {
    "slideshow": {
     "slide_type": "slide"
    }
   },
   "source": [
    "### The `DataArray` container:  \"`Variable` with associated coordinates\"\n",
    "- wraps 1 main array  + (optionally) sets `.name`\n",
    "- adds `.coords` mapping of *coordinate* name ->  associated coordinate/label `DataArray`s "
   ]
  },
  {
   "cell_type": "code",
   "execution_count": null,
   "metadata": {
    "slideshow": {
     "slide_type": "skip"
    }
   },
   "outputs": [],
   "source": [
    "coord = xr.DataArray([], name='not in dims')   # to skip the next code"
   ]
  },
  {
   "cell_type": "code",
   "execution_count": null,
   "metadata": {
    "cell_style": "split"
   },
   "outputs": [],
   "source": [
    "data = np.random.rand(2, 2, 3)\n",
    "darr = xr.DataArray(data, dims=('t', 'x', 'y'),\n",
    "                    name='smth', coords={'t':[0.2, 0.3],\n",
    "                                'x': np.arange(2)},\n",
    "                    attrs={'simulation':'random N(0,1)'})\n",
    "darr"
   ]
  },
  {
   "cell_type": "code",
   "execution_count": null,
   "metadata": {
    "cell_style": "split"
   },
   "outputs": [],
   "source": [
    "# PSEUDOCODE for each coord DataArray in darr.coords\n",
    "if coord.name in darr.dims and coord.ndim == 1:\n",
    "    darr.indexes[coord.name] = pd.Index(coord)"
   ]
  },
  {
   "cell_type": "code",
   "execution_count": null,
   "metadata": {
    "cell_style": "split",
    "scrolled": true
   },
   "outputs": [],
   "source": [
    "darr.coords['t']"
   ]
  },
  {
   "cell_type": "code",
   "execution_count": null,
   "metadata": {
    "cell_style": "split"
   },
   "outputs": [],
   "source": [
    "darr.indexes['x']"
   ]
  },
  {
   "cell_type": "markdown",
   "metadata": {
    "slideshow": {
     "slide_type": "subslide"
    }
   },
   "source": [
    "### `repr` & HTML representation of  dimensions w&w/o index\n",
    " HTML display is default in Jupyter Notebook as of version 0.15.1.\n",
    " \n",
    "|dimensions |HTML| `repr`|\n",
    "|:-|:-|:-|\n",
    "|*with* index|**bold**|`*` symbol in `.coords`|\n",
    "| *without* index| normal| listed explicitly|"
   ]
  },
  {
   "cell_type": "code",
   "execution_count": null,
   "metadata": {
    "cell_style": "split"
   },
   "outputs": [],
   "source": [
    "darr.coords['x2'] = darr.coords['x'] - 2\n",
    "darr"
   ]
  },
  {
   "cell_type": "code",
   "execution_count": null,
   "metadata": {
    "cell_style": "split",
    "scrolled": false
   },
   "outputs": [],
   "source": [
    "print(darr)"
   ]
  },
  {
   "cell_type": "markdown",
   "metadata": {
    "cell_style": "split",
    "slideshow": {
     "slide_type": "fragment"
    }
   },
   "source": [
    "||Pandas | xarray|\n",
    "|:-|:-|:-|\n",
    "|**core building block**|  `Index`| dimensions (`Variable`)|\n",
    "|**`Index` presence**|  mandatory| optional|"
   ]
  },
  {
   "cell_type": "markdown",
   "metadata": {
    "slideshow": {
     "slide_type": "slide"
    }
   },
   "source": [
    "### The `Dataset` container: \"mapping of `DataArray`s\"\n",
    "- like `DataFrame` is a mapping of `Series`\n",
    "- shared **union** of `.coords` of all contained variables"
   ]
  },
  {
   "cell_type": "code",
   "execution_count": null,
   "metadata": {
    "cell_style": "split"
   },
   "outputs": [],
   "source": [
    "ds = xr.Dataset({'smth': (['t', 'x', 'y'], data),\n",
    "            'difrnt': (['y', 'x'], data[0].T)},\n",
    "        coords={'t': [0.3,0.2], 'x': [0,1]})\n",
    "ds"
   ]
  },
  {
   "cell_type": "markdown",
   "metadata": {
    "cell_style": "split",
    "slideshow": {
     "slide_type": "-"
    }
   },
   "source": [
    "- `.data_vars`: name -> `DataArray`\n",
    "  - used by `Dataset` mapping API (`[]`, `.keys()`, `.items()`, `iter()`, ...) as of v0.11\n",
    "- `.variables`: union of `.coords` and `.data_vars` -> `(Index)Variable`\n",
    "\n"
   ]
  },
  {
   "cell_type": "markdown",
   "metadata": {
    "cell_style": "split",
    "slideshow": {
     "slide_type": "fragment"
    }
   },
   "source": [
    "||`.coords`|`.data_vars` |\n",
    "|-:|-:|-:|\n",
    "|intended for quantities | fixed/independent| measured/dependent |\n",
    "|indexing usage| yes if 1D| no|\n",
    "|`.plot` usage|x(,y) values/labels | y,(color) value | "
   ]
  },
  {
   "cell_type": "markdown",
   "metadata": {
    "slideshow": {
     "slide_type": "slide"
    }
   },
   "source": [
    "### Tutorial dataset: air temperature above the US 2013-2014\n",
    "- **Disclaimer**: I'm not a climate scientist -> just for illustration!"
   ]
  },
  {
   "cell_type": "code",
   "execution_count": null,
   "metadata": {},
   "outputs": [],
   "source": [
    "ds = xr.tutorial.open_dataset('air_temperature')   # downloads+caches ~17 MB NetCDF, wraps xr.open_dataset\n",
    "ds"
   ]
  },
  {
   "cell_type": "markdown",
   "metadata": {
    "slideshow": {
     "slide_type": "subslide"
    }
   },
   "source": [
    "### Lazy/on-demand data loading by `open_dataset` (and `open_dataarray`)\n",
    "- `xr.open_dataset` loads only `.coords` into memory -> selection/slicing by index works!\n",
    "- data variables loaded only on actual values access (calculation, slicing, ...) or with `.load()`\n",
    "- `xr.load_dataset` follows `xr.open_dataset` by `.load()` -> loads all data into memory"
   ]
  },
  {
   "cell_type": "code",
   "execution_count": null,
   "metadata": {
    "cell_style": "split"
   },
   "outputs": [],
   "source": [
    "airT = ds['air'] # let's start with DataArray\n",
    "airT"
   ]
  },
  {
   "cell_type": "code",
   "execution_count": null,
   "metadata": {
    "cell_style": "split"
   },
   "outputs": [],
   "source": [
    "partyT = airT.loc['2014-01-01']\n",
    "partyT"
   ]
  },
  {
   "cell_type": "markdown",
   "metadata": {
    "cell_style": "center",
    "slideshow": {
     "slide_type": "slide"
    }
   },
   "source": [
    "### Attribute access aliases\n",
    "For valid Python attribute names not aliased by class attributes/methods `ds.<name>` tries:\n",
    "1. `ds['<name>']` which tries in turn\n",
    "    1. `ds.data_vars['<name>']`\n",
    "    2. `ds.coords['<name>']`\n",
    "2. `ds.attrs['<name>']`"
   ]
  },
  {
   "cell_type": "code",
   "execution_count": null,
   "metadata": {},
   "outputs": [],
   "source": [
    "assert ds.air is not ds['air']   # different DataArray instances created on-demand\n",
    "xr.testing.assert_equal(ds.air, ds['air'])  # but equal in terms contents\n",
    "xr.testing.assert_equal(ds.lon, ds.coords['lon'])\n",
    "assert ds.title == ds.attrs['title']"
   ]
  },
  {
   "cell_type": "markdown",
   "metadata": {},
   "source": [
    "Similar for `DataArray`, but no `.data_vars`"
   ]
  },
  {
   "cell_type": "code",
   "execution_count": null,
   "metadata": {},
   "outputs": [],
   "source": [
    "xr.testing.assert_equal(airT.time, airT.coords['time'])\n",
    "xr.testing.assert_equal(airT['lon'], airT.coords['lon'])  # yes, this actually works\n",
    "assert airT.units == airT.units"
   ]
  },
  {
   "cell_type": "markdown",
   "metadata": {
    "slideshow": {
     "slide_type": "subslide"
    }
   },
   "source": [
    "### Tab-completion support \n",
    "- Mixin class implements `._ipython_key_completions_()` based on member sources\n",
    "\n",
    "|completion features |attribute| item|\n",
    "|-:|-:|-:|\n",
    "|data members suggested| with valid Python identifier | all |\n",
    "|suggestions also shown| class methods/attributes (alias conflicts) | no (+- Jupyter issues)|\n",
    "|chained tab-completion* | better | worse |\n",
    "\n",
    "\\* Depends on completion library settings."
   ]
  },
  {
   "cell_type": "code",
   "execution_count": null,
   "metadata": {
    "cell_style": "split"
   },
   "outputs": [],
   "source": [
    "ds.air.all"
   ]
  },
  {
   "cell_type": "code",
   "execution_count": null,
   "metadata": {
    "cell_style": "split"
   },
   "outputs": [],
   "source": [
    "ds['a'].a"
   ]
  },
  {
   "cell_type": "markdown",
   "metadata": {
    "slideshow": {
     "slide_type": "slide"
    }
   },
   "source": [
    "### Basics of `DataArray` NumPy-like API  (shared with `Variable`)\n",
    "Underlying data (property - checks dimension shape and size on assignment) attributes\n",
    "- `.data`: the actual data (`np.ndarray` or lazy-data wrapper or Dask or sparse)\n",
    "- `.values` always return `ndarray` (like `np.asarray`) ... \"safer\" for function application"
   ]
  },
  {
   "cell_type": "code",
   "execution_count": null,
   "metadata": {},
   "outputs": [],
   "source": [
    "airT.data is airT.values  # True if ndarray and loaded into memory"
   ]
  },
  {
   "cell_type": "markdown",
   "metadata": {
    "cell_style": "center"
   },
   "source": [
    "`ndarray`-like (*duck array*) attributes: `.ndim`, `.shape`, `.size` `.nbytes`, `.dtype`, ... complemented by\n",
    "\n",
    "- `.dims`: dimension names corresponding to algebraic dimensions\n",
    "- `.sizes`: mapping of dimensions name -> size  (*likely ordered as `.dims` on Python 3*)"
   ]
  },
  {
   "cell_type": "code",
   "execution_count": null,
   "metadata": {},
   "outputs": [],
   "source": []
  },
  {
   "cell_type": "code",
   "execution_count": null,
   "metadata": {
    "cell_style": "split",
    "scrolled": true
   },
   "outputs": [],
   "source": [
    "airT.dims"
   ]
  },
  {
   "cell_type": "code",
   "execution_count": null,
   "metadata": {
    "cell_style": "split",
    "scrolled": true
   },
   "outputs": [],
   "source": [
    "airT.sizes"
   ]
  },
  {
   "cell_type": "markdown",
   "metadata": {
    "slideshow": {
     "slide_type": "slide"
    }
   },
   "source": [
    "### Indexing and selecting data *when dimensions order is known*\n",
    "- For `DataArray`  integer indexing by `darr[...]` and label-based indexing by `darr.loc[...]`\n",
    "- label-based slicing is **end-inclusive** (like Pandas)"
   ]
  },
  {
   "cell_type": "code",
   "execution_count": null,
   "metadata": {
    "cell_style": "split"
   },
   "outputs": [],
   "source": [
    "airT[0,50::-2,5]"
   ]
  },
  {
   "cell_type": "code",
   "execution_count": null,
   "metadata": {
    "cell_style": "split",
    "scrolled": true
   },
   "outputs": [],
   "source": [
    "airT.loc['2014-02-17 00',10::-2,280]"
   ]
  },
  {
   "cell_type": "markdown",
   "metadata": {},
   "source": [
    "Copy returned for \"fancy indexing\" (not representable by integers and/or slices) - otherwise: view "
   ]
  },
  {
   "cell_type": "markdown",
   "metadata": {
    "slideshow": {
     "slide_type": "subslide"
    }
   },
   "source": [
    "### Indexing and selecting data by dimension name\n",
    "\n",
    "- by integers `darr[dict(x=val,...)]`, label-based: `darr.loc[dict(x=val,...)]` \n",
    "    - can be used for assignment\n",
    "- alternatively `darr.isel(x=val,...)` and `darr.sel(x=val,...)`, respectively\n",
    "   - cannot be used for assignment"
   ]
  },
  {
   "cell_type": "markdown",
   "metadata": {
    "cell_style": "split",
    "slideshow": {
     "slide_type": "-"
    }
   },
   "source": [
    "- [PEP 472](https://legacy.python.org/dev/peps/pep-0472/): `darr[lat=20:30,time='2014']` \n",
    "- requires slice specification by `slice(...)`\n",
    "- works also for `Dataset`\n",
    "- vectorized indexing: e.g. point-wise new dimension"
   ]
  },
  {
   "cell_type": "code",
   "execution_count": null,
   "metadata": {
    "cell_style": "split",
    "scrolled": true
   },
   "outputs": [],
   "source": [
    "# euivalent to airT.loc['2014-02-17 00',10::-2,280]\n",
    "airT.sel(lon=280,time='2014-02-17 00',\n",
    "         lat=slice(10,None,-2))"
   ]
  },
  {
   "cell_type": "markdown",
   "metadata": {
    "slideshow": {
     "slide_type": "subslide"
    }
   },
   "source": [
    "### Nearest neighbor lookups\n",
    "- `.sel()`: optional `method='nearest'` (`'ffill'` and `'bfill'` also available)\n",
    "- optional `tolerance=` for \"too far\" matches -> `KeyError`"
   ]
  },
  {
   "cell_type": "code",
   "execution_count": null,
   "metadata": {},
   "outputs": [],
   "source": [
    "ds.sel(lat=75.5, method='nearest')"
   ]
  },
  {
   "cell_type": "markdown",
   "metadata": {
    "slideshow": {
     "slide_type": "slide"
    }
   },
   "source": [
    "### Matplotlib PyPlot wrappers in `.plot` accessor\n",
    "- Auto-magic `.plot()` call selects method based on dimensionality\n",
    "- axis labels from `description` and `units` attributes (if available)"
   ]
  },
  {
   "cell_type": "code",
   "execution_count": null,
   "metadata": {
    "cell_style": "split"
   },
   "outputs": [],
   "source": [
    "airT.plot();   # more than 2D -> histogram"
   ]
  },
  {
   "cell_type": "code",
   "execution_count": null,
   "metadata": {
    "cell_style": "split",
    "scrolled": true
   },
   "outputs": [],
   "source": [
    "airT.isel(time=500).plot()  # 2D -> pcolormesh"
   ]
  },
  {
   "cell_type": "markdown",
   "metadata": {},
   "source": [
    "Plots can be further adjusted by matplotlib calls (**after** xarray call - sets title, labels, ...)"
   ]
  },
  {
   "cell_type": "markdown",
   "metadata": {
    "slideshow": {
     "slide_type": "subslide"
    }
   },
   "source": [
    "### Automatic plot orienting, faceting and grouping by dimension"
   ]
  },
  {
   "cell_type": "code",
   "execution_count": null,
   "metadata": {},
   "outputs": [],
   "source": [
    "airT.sel(time='2014-04-15').plot.pcolormesh(x='lon', col='time')   # 3D array faceted to 2D"
   ]
  },
  {
   "cell_type": "code",
   "execution_count": null,
   "metadata": {},
   "outputs": [],
   "source": [
    "airT.sel(lon=280, lat=slice(23,10)).plot.line('.--', x='time', alpha=0.3, aspect=3, size=4);   # 2D array -> group of 1D lines"
   ]
  },
  {
   "cell_type": "markdown",
   "metadata": {
    "slideshow": {
     "slide_type": "subslide"
    }
   },
   "source": [
    "### More interactive alternative: `.hvplot` accessor \n",
    " `.plot`-like wrapper of HoloViews (Bokeh)"
   ]
  },
  {
   "cell_type": "code",
   "execution_count": null,
   "metadata": {
    "cell_style": "center"
   },
   "outputs": [],
   "source": [
    "import holoviews as hv\n",
    "hv.extension('bokeh')\n",
    "import hvplot.xarray    # registers the .hvplot accesor\n",
    "\n",
    "airT.sel(lat=[20,40,60]).hvplot.line(x='time', groupby='lon', by='lat')"
   ]
  },
  {
   "cell_type": "markdown",
   "metadata": {
    "slideshow": {
     "slide_type": "slide"
    }
   },
   "source": [
    "### NumPy methods operating along dimensions\n",
    "- most NumPy-like methods have an extra `dim='name'` argument -> `axis=N` (still available)\n",
    "- by default `nan` are skipped in calculations (controlled `skipna=`)\n",
    "- attributes may be dropped (controlled by `keep_attrs=`)"
   ]
  },
  {
   "cell_type": "code",
   "execution_count": null,
   "metadata": {
    "cell_style": "split"
   },
   "outputs": [],
   "source": [
    "np.set_printoptions(edgeitems=1)   # to fit on slide\n",
    "ds['muT'] = airT.mean(dim='lon') # \"data namespace\"\n",
    "ds.muT"
   ]
  },
  {
   "cell_type": "code",
   "execution_count": null,
   "metadata": {
    "cell_style": "split"
   },
   "outputs": [],
   "source": [
    "ds"
   ]
  },
  {
   "cell_type": "markdown",
   "metadata": {
    "slideshow": {
     "slide_type": "subslide"
    }
   },
   "source": [
    "### Wrapping other NumPy methods\n",
    "- NumPy functions (`ufunc`,...) respecting `__array*` interface will wrap result in `DataArray`\n",
    "- `axis=darr.get_axis_num('<dim name>')` also possible, but `apply_ufunc` recommended\n",
    "- arithmetic ops: reshape and align to *inner join* of coords (configurable by `xr.set_options`)"
   ]
  },
  {
   "cell_type": "code",
   "execution_count": null,
   "metadata": {},
   "outputs": [],
   "source": [
    "muT2 = np.sqrt(ds.muT).sel(lat=[20,30,60])  # still a DataArray\n",
    "dT2 = airT - muT2   # reshapes muT and aligns both to common lat index\n",
    "dT2"
   ]
  },
  {
   "cell_type": "markdown",
   "metadata": {
    "slideshow": {
     "slide_type": "subslide"
    }
   },
   "source": [
    "### Warning: Dataset always aligns all members by *outer join*"
   ]
  },
  {
   "cell_type": "code",
   "execution_count": null,
   "metadata": {
    "cell_style": "split"
   },
   "outputs": [],
   "source": [
    "ds['dT2'] = dT2    # will fill other lattitudes by nan\n",
    "ds"
   ]
  },
  {
   "cell_type": "markdown",
   "metadata": {
    "cell_style": "split",
    "slideshow": {
     "slide_type": "-"
    }
   },
   "source": [
    "May lead to many `nan` values in \"sparse\" variables"
   ]
  },
  {
   "cell_type": "code",
   "execution_count": null,
   "metadata": {
    "cell_style": "split"
   },
   "outputs": [],
   "source": [
    "del ds['dT2']   # luckily we can fix that"
   ]
  },
  {
   "cell_type": "markdown",
   "metadata": {
    "slideshow": {
     "slide_type": "slide"
    }
   },
   "source": [
    "### General (g)`ufunc`-like function wrapping by `xr.apply_ufunc()`"
   ]
  },
  {
   "cell_type": "markdown",
   "metadata": {
    "cell_style": "split",
    "slideshow": {
     "slide_type": "-"
    }
   },
   "source": [
    "1. prepares data in  passed `xarray` containers (including `Dataset`) for a NumPy-aware function \n",
    "  - moves **core** dimensions to be *last*, will not be broadcast\n",
    "  - reshaping, aligning for broadcasting\n",
    "2. applies function to `ndarray`s\n",
    "  - expected to apply on **core** dims or all\n",
    "  - optionally with `np.vectorize`\n",
    "  - possibly parallelized over Dask chunks\n",
    "  - great with `numba.(gu)vectorize`\n",
    "3. wraps result(s) with xarray metadata "
   ]
  },
  {
   "cell_type": "code",
   "execution_count": null,
   "metadata": {
    "cell_style": "split",
    "scrolled": false
   },
   "outputs": [],
   "source": [
    "from scipy.ndimage import sobel    # sobel filter\n",
    "\n",
    "ds_sobel = xr.apply_ufunc(sobel, ds, \n",
    "               input_core_dims=[['lat']],\n",
    "               output_core_dims=[['lat']],\n",
    "               kwargs=dict(axis=-1)) \n",
    "\n",
    "ds_sobel.air.isel(time=500).plot(x='lon')"
   ]
  },
  {
   "cell_type": "markdown",
   "metadata": {
    "slideshow": {
     "slide_type": "subslide"
    }
   },
   "source": [
    "### Example SciPy wrappers from `xrscipy`\n",
    " - Includes many common SciPy wrapper for FFT, spectral analysis, filtering, integration\n",
    " - [xr-scipy.readthedocs.io](https://xr-scipy.readthedocs.io/)\n"
   ]
  },
  {
   "cell_type": "code",
   "execution_count": null,
   "metadata": {
    "cell_style": "split"
   },
   "outputs": [],
   "source": [
    "import xrscipy\n",
    "import xrscipy.signal as xsignal\n",
    "\n",
    "# quadratic Savitzky-Golay deriv filter\n",
    "# over a window of 30 longitudes\n",
    "dlon = xsignal.savgol_filter(airT, 30, 2, 1, dim='lon')\n",
    "dlon.isel(time=500).plot()"
   ]
  },
  {
   "cell_type": "markdown",
   "metadata": {
    "cell_style": "split"
   },
   "source": [
    "![SG](https://upload.wikimedia.org/wikipedia/commons/8/89/Lissage_sg3_anim.gif)"
   ]
  },
  {
   "cell_type": "markdown",
   "metadata": {
    "slideshow": {
     "slide_type": "subslide"
    }
   },
   "source": [
    "### Monte-Carlo-like probability propagation with `xrrandom`\n",
    "- wraps `scipy.stats` and `arch` (bootstrapping)\n",
    "- likely to be merged into `xrscipy`\n",
    "- supports \"virtual sample counts\" via Dask\n",
    "- https://github.com/smartass101/xr-random"
   ]
  },
  {
   "cell_type": "code",
   "execution_count": null,
   "metadata": {
    "cell_style": "split"
   },
   "outputs": [],
   "source": [
    "import xrrandom\n",
    "from xrrandom import stats as xstats\n",
    "\n",
    "\n",
    "mu = airT.mean(dim='time')\n",
    "sd = airT.mean()   # over all -> 0D\n",
    "# automatic broadcasting of sampel size\n",
    "samples = xstats.norm.rvs(loc=mu, scale=sd, samples=1000)\n",
    "samples"
   ]
  },
  {
   "cell_type": "code",
   "execution_count": null,
   "metadata": {
    "cell_style": "split"
   },
   "outputs": [],
   "source": [
    "res = np.log(samples**2).mean(dim='sample')\n",
    "res"
   ]
  },
  {
   "cell_type": "markdown",
   "metadata": {
    "slideshow": {
     "slide_type": "slide"
    }
   },
   "source": [
    "### Dask chunking of `xarray` containers\n",
    "- `.chunk(<mapping dim -> chunksize>)` turns `.data` into a `DaskArray`\n",
    "- most methods and operations will work and be added to Dask tree\n",
    "- `.compute()` evaluates the Dask tree"
   ]
  },
  {
   "cell_type": "code",
   "execution_count": null,
   "metadata": {
    "cell_style": "split"
   },
   "outputs": [],
   "source": [
    "from dask.diagnostics import ProgressBar\n",
    "\n",
    "dairT = airT.chunk({'time':50}) # parallelize in lat\n",
    "dairT"
   ]
  },
  {
   "cell_type": "code",
   "execution_count": null,
   "metadata": {
    "cell_style": "split",
    "scrolled": true
   },
   "outputs": [],
   "source": [
    "with ProgressBar():\n",
    "    muT =  dairT.mean(dim='time').compute()\n",
    "muT"
   ]
  },
  {
   "cell_type": "markdown",
   "metadata": {
    "slideshow": {
     "slide_type": "subslide"
    }
   },
   "source": [
    "### Combining broadcasting with Dask -> parallelized out-of-memory for loops\n",
    "\n",
    "- Problem: `for` each `time` calculate percentage of times the temperature was warmer\n",
    "\n",
    "- Solution: create a new array `time2` dimension and broadcast (with chunks) against it"
   ]
  },
  {
   "cell_type": "code",
   "execution_count": null,
   "metadata": {
    "cell_style": "split"
   },
   "outputs": [],
   "source": [
    "airT2 = airT.rename(time='time2')\n",
    "warmer2 = dairT > airT2\n",
    "warmer2 "
   ]
  },
  {
   "cell_type": "code",
   "execution_count": null,
   "metadata": {
    "cell_style": "split"
   },
   "outputs": [],
   "source": [
    "with ProgressBar():\n",
    "    warmer = warmer2.mean(dim='time2').compute()\n",
    "warmer"
   ]
  },
  {
   "cell_type": "markdown",
   "metadata": {
    "slideshow": {
     "slide_type": "slide"
    }
   },
   "source": [
    "### Many other things not covered (but similar with Pandas or domain specific)\n",
    "\n",
    "Go check out the docs at [xarray.pydata.org](https://xarray.pydata.org/en/stable/index.html)\n",
    "- stacking (flattening) dimensions into `MultiIndex`\n",
    "- group-by (split-apply-combine) operations\n",
    "- rolling windows, coarsening, weighted averaging\n",
    "- combining (`xr.concat`) data\n",
    "- interpolating data\n",
    "- polynomial fitting\n",
    "- squeezing, expanding, reordering dimensions\n",
    "- IO backends\n",
    "- registering accessors (composition over inheritance)\n",
    "- ..."
   ]
  },
  {
   "cell_type": "markdown",
   "metadata": {
    "slideshow": {
     "slide_type": "slide"
    }
   },
   "source": [
    "### Summary: why you might want to use `xarray`\n",
    "- explicit **dimensions** metadata\n",
    "  - more readable and safer code\n",
    "  - convenient handle on broadcasting magic and function application\n",
    "- generalizes tried and trusted NumPy and Pandas API  to Dask and beyond\n",
    "- versatile and quite universal data structures - standardization\n",
    "  - enable transfer of [extensions](https://xarray.pydata.org/en/stable/related-projects.html) to many different fields\n"
   ]
  },
  {
   "cell_type": "markdown",
   "metadata": {
    "slideshow": {
     "slide_type": "fragment"
    }
   },
   "source": [
    "Talk available as Jupyter Notebook at GitHub [smartass101/xarray-pydata-prague-2020](https://github.com/smartass101/xarray-pydata-prague-2020)\n",
    "\n",
    "*presented with the [RISE](https://rise.readthedocs.io/en/stable/) and  [Split Cell](https://jupyter-contrib-nbextensions.readthedocs.io/en/latest/nbextensions/splitcell/readme.html) extensions*"
   ]
  }
 ],
 "metadata": {
  "celltoolbar": "Slideshow",
  "kernelspec": {
   "display_name": "Python 3",
   "language": "python",
   "name": "python3"
  },
  "language_info": {
   "codemirror_mode": {
    "name": "ipython",
    "version": 3
   },
   "file_extension": ".py",
   "mimetype": "text/x-python",
   "name": "python",
   "nbconvert_exporter": "python",
   "pygments_lexer": "ipython3",
   "version": "3.8.3"
  },
  "rise": {
   "autolaunch": false,
   "controls": false,
   "header": "<h2><img src='https://pydata.org/wp-content/uploads/2019/06/pydata-logo-final.png' style='height:90px; padding: 10px;'> <span style='line-height: 80px; vertical-align: bottom;'> Ondřej Grover: xarray - more than Pandas in multiple dimensions</span></h2>"
  }
 },
 "nbformat": 4,
 "nbformat_minor": 4
}
